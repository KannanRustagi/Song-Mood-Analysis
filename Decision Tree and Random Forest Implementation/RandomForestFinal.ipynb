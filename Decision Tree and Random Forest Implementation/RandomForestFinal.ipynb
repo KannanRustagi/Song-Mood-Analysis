{
 "cells": [
  {
   "cell_type": "markdown",
   "id": "6cc7755c-7fd5-4240-94b3-fdee09a0d338",
   "metadata": {},
   "source": [
    "# Random Forest Classification for Mood Classification of Spotify Songs\n",
    "\n",
    "## Importing Libraries"
   ]
  },
  {
   "cell_type": "code",
   "execution_count": 1,
   "id": "b0cb8ebf-35b7-41b2-8414-89e81cda8d3f",
   "metadata": {},
   "outputs": [],
   "source": [
    "import numpy as np\n",
    "import pandas as pd\n",
    "import matplotlib.pyplot as plt\n",
    "%matplotlib inline"
   ]
  },
  {
   "cell_type": "markdown",
   "id": "8028be8d-7149-4215-ba6b-bbf883960499",
   "metadata": {},
   "source": [
    "## Reading Data"
   ]
  },
  {
   "cell_type": "code",
   "execution_count": 2,
   "id": "ce9c10de-41c9-4547-b072-7d0b0f2daa7e",
   "metadata": {},
   "outputs": [
    {
     "data": {
      "text/html": [
       "<div>\n",
       "<style scoped>\n",
       "    .dataframe tbody tr th:only-of-type {\n",
       "        vertical-align: middle;\n",
       "    }\n",
       "\n",
       "    .dataframe tbody tr th {\n",
       "        vertical-align: top;\n",
       "    }\n",
       "\n",
       "    .dataframe thead th {\n",
       "        text-align: right;\n",
       "    }\n",
       "</style>\n",
       "<table border=\"1\" class=\"dataframe\">\n",
       "  <thead>\n",
       "    <tr style=\"text-align: right;\">\n",
       "      <th></th>\n",
       "      <th>mood</th>\n",
       "      <th>acousticness</th>\n",
       "      <th>danceability</th>\n",
       "      <th>energy</th>\n",
       "      <th>instrumentalness</th>\n",
       "      <th>liveness</th>\n",
       "      <th>loudness</th>\n",
       "      <th>speechiness</th>\n",
       "      <th>tempo</th>\n",
       "      <th>valence</th>\n",
       "      <th>timeSignature</th>\n",
       "    </tr>\n",
       "  </thead>\n",
       "  <tbody>\n",
       "    <tr>\n",
       "      <th>0</th>\n",
       "      <td>calm</td>\n",
       "      <td>0.9490</td>\n",
       "      <td>0.735</td>\n",
       "      <td>0.456</td>\n",
       "      <td>0.878</td>\n",
       "      <td>0.118</td>\n",
       "      <td>-12.937</td>\n",
       "      <td>0.0524</td>\n",
       "      <td>147.970</td>\n",
       "      <td>0.708</td>\n",
       "      <td>4</td>\n",
       "    </tr>\n",
       "    <tr>\n",
       "      <th>1</th>\n",
       "      <td>calm</td>\n",
       "      <td>0.0859</td>\n",
       "      <td>0.773</td>\n",
       "      <td>0.291</td>\n",
       "      <td>0.898</td>\n",
       "      <td>0.117</td>\n",
       "      <td>-15.935</td>\n",
       "      <td>0.0781</td>\n",
       "      <td>80.006</td>\n",
       "      <td>0.601</td>\n",
       "      <td>4</td>\n",
       "    </tr>\n",
       "    <tr>\n",
       "      <th>2</th>\n",
       "      <td>calm</td>\n",
       "      <td>0.3740</td>\n",
       "      <td>0.636</td>\n",
       "      <td>0.438</td>\n",
       "      <td>0.837</td>\n",
       "      <td>0.873</td>\n",
       "      <td>-12.560</td>\n",
       "      <td>0.0707</td>\n",
       "      <td>149.981</td>\n",
       "      <td>0.915</td>\n",
       "      <td>4</td>\n",
       "    </tr>\n",
       "    <tr>\n",
       "      <th>3</th>\n",
       "      <td>calm</td>\n",
       "      <td>0.8420</td>\n",
       "      <td>0.768</td>\n",
       "      <td>0.574</td>\n",
       "      <td>0.926</td>\n",
       "      <td>0.115</td>\n",
       "      <td>-7.573</td>\n",
       "      <td>0.0578</td>\n",
       "      <td>74.997</td>\n",
       "      <td>0.299</td>\n",
       "      <td>4</td>\n",
       "    </tr>\n",
       "    <tr>\n",
       "      <th>4</th>\n",
       "      <td>calm</td>\n",
       "      <td>0.4880</td>\n",
       "      <td>0.766</td>\n",
       "      <td>0.238</td>\n",
       "      <td>0.935</td>\n",
       "      <td>0.124</td>\n",
       "      <td>-11.831</td>\n",
       "      <td>0.0445</td>\n",
       "      <td>105.000</td>\n",
       "      <td>0.394</td>\n",
       "      <td>4</td>\n",
       "    </tr>\n",
       "  </tbody>\n",
       "</table>\n",
       "</div>"
      ],
      "text/plain": [
       "   mood  acousticness  danceability  energy  instrumentalness  liveness  \\\n",
       "0  calm        0.9490         0.735   0.456             0.878     0.118   \n",
       "1  calm        0.0859         0.773   0.291             0.898     0.117   \n",
       "2  calm        0.3740         0.636   0.438             0.837     0.873   \n",
       "3  calm        0.8420         0.768   0.574             0.926     0.115   \n",
       "4  calm        0.4880         0.766   0.238             0.935     0.124   \n",
       "\n",
       "   loudness  speechiness    tempo  valence  timeSignature  \n",
       "0   -12.937       0.0524  147.970    0.708              4  \n",
       "1   -15.935       0.0781   80.006    0.601              4  \n",
       "2   -12.560       0.0707  149.981    0.915              4  \n",
       "3    -7.573       0.0578   74.997    0.299              4  \n",
       "4   -11.831       0.0445  105.000    0.394              4  "
      ]
     },
     "execution_count": 2,
     "metadata": {},
     "output_type": "execute_result"
    }
   ],
   "source": [
    "train_df=pd.read_csv(\"final_train.csv\")\n",
    "train_df.head()"
   ]
  },
  {
   "cell_type": "markdown",
   "id": "984ba63a-5b77-46b5-8c18-3d8eb7e438fe",
   "metadata": {},
   "source": [
    "## Cleaning Data"
   ]
  },
  {
   "cell_type": "code",
   "execution_count": 3,
   "id": "2f914c52-b6b6-475d-9730-92d717aad7c1",
   "metadata": {},
   "outputs": [
    {
     "data": {
      "text/plain": [
       "Index(['mood', 'acousticness', 'danceability', 'energy', 'instrumentalness',\n",
       "       'liveness', 'loudness', 'speechiness', 'tempo', 'valence',\n",
       "       'timeSignature'],\n",
       "      dtype='object')"
      ]
     },
     "execution_count": 3,
     "metadata": {},
     "output_type": "execute_result"
    }
   ],
   "source": [
    "train_df.columns"
   ]
  },
  {
   "cell_type": "code",
   "execution_count": 9,
   "id": "bbdedc5a-e6ec-41c8-a25b-e839c5de8c4b",
   "metadata": {},
   "outputs": [
    {
     "data": {
      "text/html": [
       "<div>\n",
       "<style scoped>\n",
       "    .dataframe tbody tr th:only-of-type {\n",
       "        vertical-align: middle;\n",
       "    }\n",
       "\n",
       "    .dataframe tbody tr th {\n",
       "        vertical-align: top;\n",
       "    }\n",
       "\n",
       "    .dataframe thead th {\n",
       "        text-align: right;\n",
       "    }\n",
       "</style>\n",
       "<table border=\"1\" class=\"dataframe\">\n",
       "  <thead>\n",
       "    <tr style=\"text-align: right;\">\n",
       "      <th></th>\n",
       "      <th>acousticness</th>\n",
       "      <th>danceability</th>\n",
       "      <th>energy</th>\n",
       "      <th>instrumentalness</th>\n",
       "      <th>liveness</th>\n",
       "      <th>loudness</th>\n",
       "      <th>speechiness</th>\n",
       "      <th>tempo</th>\n",
       "      <th>valence</th>\n",
       "      <th>timeSignature</th>\n",
       "    </tr>\n",
       "  </thead>\n",
       "  <tbody>\n",
       "    <tr>\n",
       "      <th>0</th>\n",
       "      <td>0.9490</td>\n",
       "      <td>0.735</td>\n",
       "      <td>0.456</td>\n",
       "      <td>0.878</td>\n",
       "      <td>0.118</td>\n",
       "      <td>-12.937</td>\n",
       "      <td>0.0524</td>\n",
       "      <td>147.970</td>\n",
       "      <td>0.708</td>\n",
       "      <td>4</td>\n",
       "    </tr>\n",
       "    <tr>\n",
       "      <th>1</th>\n",
       "      <td>0.0859</td>\n",
       "      <td>0.773</td>\n",
       "      <td>0.291</td>\n",
       "      <td>0.898</td>\n",
       "      <td>0.117</td>\n",
       "      <td>-15.935</td>\n",
       "      <td>0.0781</td>\n",
       "      <td>80.006</td>\n",
       "      <td>0.601</td>\n",
       "      <td>4</td>\n",
       "    </tr>\n",
       "    <tr>\n",
       "      <th>2</th>\n",
       "      <td>0.3740</td>\n",
       "      <td>0.636</td>\n",
       "      <td>0.438</td>\n",
       "      <td>0.837</td>\n",
       "      <td>0.873</td>\n",
       "      <td>-12.560</td>\n",
       "      <td>0.0707</td>\n",
       "      <td>149.981</td>\n",
       "      <td>0.915</td>\n",
       "      <td>4</td>\n",
       "    </tr>\n",
       "    <tr>\n",
       "      <th>3</th>\n",
       "      <td>0.8420</td>\n",
       "      <td>0.768</td>\n",
       "      <td>0.574</td>\n",
       "      <td>0.926</td>\n",
       "      <td>0.115</td>\n",
       "      <td>-7.573</td>\n",
       "      <td>0.0578</td>\n",
       "      <td>74.997</td>\n",
       "      <td>0.299</td>\n",
       "      <td>4</td>\n",
       "    </tr>\n",
       "    <tr>\n",
       "      <th>4</th>\n",
       "      <td>0.4880</td>\n",
       "      <td>0.766</td>\n",
       "      <td>0.238</td>\n",
       "      <td>0.935</td>\n",
       "      <td>0.124</td>\n",
       "      <td>-11.831</td>\n",
       "      <td>0.0445</td>\n",
       "      <td>105.000</td>\n",
       "      <td>0.394</td>\n",
       "      <td>4</td>\n",
       "    </tr>\n",
       "  </tbody>\n",
       "</table>\n",
       "</div>"
      ],
      "text/plain": [
       "   acousticness  danceability  energy  instrumentalness  liveness  loudness  \\\n",
       "0        0.9490         0.735   0.456             0.878     0.118   -12.937   \n",
       "1        0.0859         0.773   0.291             0.898     0.117   -15.935   \n",
       "2        0.3740         0.636   0.438             0.837     0.873   -12.560   \n",
       "3        0.8420         0.768   0.574             0.926     0.115    -7.573   \n",
       "4        0.4880         0.766   0.238             0.935     0.124   -11.831   \n",
       "\n",
       "   speechiness    tempo  valence  timeSignature  \n",
       "0       0.0524  147.970    0.708              4  \n",
       "1       0.0781   80.006    0.601              4  \n",
       "2       0.0707  149.981    0.915              4  \n",
       "3       0.0578   74.997    0.299              4  \n",
       "4       0.0445  105.000    0.394              4  "
      ]
     },
     "execution_count": 9,
     "metadata": {},
     "output_type": "execute_result"
    }
   ],
   "source": [
    "train_df['mood'] = train_df['mood'].map({'calm': 0, 'happy': 1, 'sad': 2, 'energetic': 3})\n",
    "y=train_df['mood']\n",
    "X=train_df.drop(['mood'], axis=1)\n",
    "X.head()"
   ]
  },
  {
   "cell_type": "code",
   "execution_count": 10,
   "id": "e433b42c-ca46-4a73-b869-29cebee373aa",
   "metadata": {},
   "outputs": [
    {
     "data": {
      "text/plain": [
       "timeSignature\n",
       "4    1380\n",
       "3      79\n",
       "5      12\n",
       "1      12\n",
       "0       1\n",
       "Name: count, dtype: int64"
      ]
     },
     "execution_count": 10,
     "metadata": {},
     "output_type": "execute_result"
    }
   ],
   "source": [
    "X['timeSignature'].value_counts()"
   ]
  },
  {
   "cell_type": "code",
   "execution_count": 11,
   "id": "ed2170b2-67a4-48c7-a4f4-429b2c9f73f9",
   "metadata": {},
   "outputs": [],
   "source": [
    "X=X.drop(['timeSignature'], axis=1)"
   ]
  },
  {
   "cell_type": "markdown",
   "id": "37e91fa3-0b0a-436c-a204-647512be227e",
   "metadata": {},
   "source": [
    "### Standardization"
   ]
  },
  {
   "cell_type": "code",
   "execution_count": 12,
   "id": "0f766b59-1433-4246-9454-2411db20ed66",
   "metadata": {},
   "outputs": [
    {
     "data": {
      "text/html": [
       "<div>\n",
       "<style scoped>\n",
       "    .dataframe tbody tr th:only-of-type {\n",
       "        vertical-align: middle;\n",
       "    }\n",
       "\n",
       "    .dataframe tbody tr th {\n",
       "        vertical-align: top;\n",
       "    }\n",
       "\n",
       "    .dataframe thead th {\n",
       "        text-align: right;\n",
       "    }\n",
       "</style>\n",
       "<table border=\"1\" class=\"dataframe\">\n",
       "  <thead>\n",
       "    <tr style=\"text-align: right;\">\n",
       "      <th></th>\n",
       "      <th>acousticness</th>\n",
       "      <th>danceability</th>\n",
       "      <th>energy</th>\n",
       "      <th>instrumentalness</th>\n",
       "      <th>liveness</th>\n",
       "      <th>loudness</th>\n",
       "      <th>speechiness</th>\n",
       "      <th>tempo</th>\n",
       "      <th>valence</th>\n",
       "    </tr>\n",
       "  </thead>\n",
       "  <tbody>\n",
       "    <tr>\n",
       "      <th>0</th>\n",
       "      <td>1.644240</td>\n",
       "      <td>0.850438</td>\n",
       "      <td>-0.361958</td>\n",
       "      <td>1.937121</td>\n",
       "      <td>-0.385616</td>\n",
       "      <td>-1.064390</td>\n",
       "      <td>-0.336563</td>\n",
       "      <td>1.081026</td>\n",
       "      <td>1.048253</td>\n",
       "    </tr>\n",
       "    <tr>\n",
       "      <th>1</th>\n",
       "      <td>-0.905543</td>\n",
       "      <td>1.128964</td>\n",
       "      <td>-1.030623</td>\n",
       "      <td>1.994756</td>\n",
       "      <td>-0.393167</td>\n",
       "      <td>-1.795770</td>\n",
       "      <td>-0.027024</td>\n",
       "      <td>-1.232240</td>\n",
       "      <td>0.615190</td>\n",
       "    </tr>\n",
       "    <tr>\n",
       "      <th>2</th>\n",
       "      <td>-0.054433</td>\n",
       "      <td>0.124806</td>\n",
       "      <td>-0.434904</td>\n",
       "      <td>1.818968</td>\n",
       "      <td>5.315280</td>\n",
       "      <td>-0.972418</td>\n",
       "      <td>-0.116152</td>\n",
       "      <td>1.149473</td>\n",
       "      <td>1.886047</td>\n",
       "    </tr>\n",
       "    <tr>\n",
       "      <th>3</th>\n",
       "      <td>1.328139</td>\n",
       "      <td>1.092316</td>\n",
       "      <td>0.116239</td>\n",
       "      <td>2.075446</td>\n",
       "      <td>-0.408268</td>\n",
       "      <td>0.244191</td>\n",
       "      <td>-0.271524</td>\n",
       "      <td>-1.402729</td>\n",
       "      <td>-0.607100</td>\n",
       "    </tr>\n",
       "    <tr>\n",
       "      <th>4</th>\n",
       "      <td>0.282347</td>\n",
       "      <td>1.077656</td>\n",
       "      <td>-1.245407</td>\n",
       "      <td>2.101382</td>\n",
       "      <td>-0.340311</td>\n",
       "      <td>-0.794574</td>\n",
       "      <td>-0.431713</td>\n",
       "      <td>-0.381528</td>\n",
       "      <td>-0.222605</td>\n",
       "    </tr>\n",
       "  </tbody>\n",
       "</table>\n",
       "</div>"
      ],
      "text/plain": [
       "   acousticness  danceability    energy  instrumentalness  liveness  loudness  \\\n",
       "0      1.644240      0.850438 -0.361958          1.937121 -0.385616 -1.064390   \n",
       "1     -0.905543      1.128964 -1.030623          1.994756 -0.393167 -1.795770   \n",
       "2     -0.054433      0.124806 -0.434904          1.818968  5.315280 -0.972418   \n",
       "3      1.328139      1.092316  0.116239          2.075446 -0.408268  0.244191   \n",
       "4      0.282347      1.077656 -1.245407          2.101382 -0.340311 -0.794574   \n",
       "\n",
       "   speechiness     tempo   valence  \n",
       "0    -0.336563  1.081026  1.048253  \n",
       "1    -0.027024 -1.232240  0.615190  \n",
       "2    -0.116152  1.149473  1.886047  \n",
       "3    -0.271524 -1.402729 -0.607100  \n",
       "4    -0.431713 -0.381528 -0.222605  "
      ]
     },
     "execution_count": 12,
     "metadata": {},
     "output_type": "execute_result"
    }
   ],
   "source": [
    "X=(X-X.mean())/X.std()\n",
    "X.head()"
   ]
  },
  {
   "cell_type": "markdown",
   "id": "25a69d5b-e615-4258-b1d0-257f11c652d3",
   "metadata": {},
   "source": [
    "### Cross validation function for evaluating the models"
   ]
  },
  {
   "cell_type": "code",
   "execution_count": 14,
   "id": "e428727b-35e9-47ce-9267-59cf71907a53",
   "metadata": {},
   "outputs": [],
   "source": [
    "def cross_validation(X, y, model, n_folds=5):\n",
    "    \"\"\"\n",
    "    Perform cross-validation.\n",
    "\n",
    "    Parameters:\n",
    "    - X: Features array\n",
    "    - y: Target array\n",
    "    - model: Model object or function to train and evaluate\n",
    "    - n_folds: Number of folds for cross-validation (default=5)\n",
    "\n",
    "    Returns:\n",
    "    - cv_scores: Array of cross-validation scores\n",
    "    \"\"\"\n",
    "    n_samples = len(y)\n",
    "    fold_size = n_samples // n_folds\n",
    "    cv_scores = []\n",
    "\n",
    "    # Shuffle indices\n",
    "    indices = np.random.permutation(n_samples)\n",
    "\n",
    "    for i in range(n_folds):\n",
    "        # Determine the indices for the validation fold\n",
    "        val_indices = indices[i * fold_size: (i + 1) * fold_size]\n",
    "\n",
    "        # Use the remaining indices for training\n",
    "        train_indices = np.concatenate((indices[:i * fold_size], indices[(i + 1) * fold_size:]))\n",
    "\n",
    "        # Split the data into training and validation sets\n",
    "        X_train, y_train = X[train_indices], y[train_indices]\n",
    "        X_val, y_val = X[val_indices], y[val_indices]\n",
    "\n",
    "        # Train the model\n",
    "        model.fit(X_train, y_train)\n",
    "\n",
    "        # Evaluate the model on the validation set\n",
    "        score = evaluate_model(model, X_val, y_val)\n",
    "\n",
    "        cv_scores.append(score)\n",
    "\n",
    "    return np.array(cv_scores)\n",
    "\n",
    "# Example of a simple evaluation function\n",
    "def evaluate_model(model, X, y):\n",
    "    \"\"\"\n",
    "    Evaluate the model on the validation set.\n",
    "\n",
    "    Parameters:\n",
    "    - model: Trained model object or function\n",
    "    - X: Features array of the validation set\n",
    "    - y: Target array of the validation set\n",
    "\n",
    "    Returns:\n",
    "    - score: Evaluation score (e.g., accuracy, MSE, etc.)\n",
    "    \"\"\"\n",
    "    # Make predictions\n",
    "    y_pred = model.predict(X)\n",
    "\n",
    "    # Calculate accuracy (you can replace it with any other evaluation metric)\n",
    "    accuracy = np.mean(y_pred == y)\n",
    "    \n",
    "    return accuracy"
   ]
  },
  {
   "cell_type": "markdown",
   "id": "de847a04-9205-49d5-a864-c584d87a299e",
   "metadata": {},
   "source": [
    "# Implementing the model from scratch\n",
    "\n",
    "## Decision Tree and Random Forest with Gini Impurity"
   ]
  },
  {
   "cell_type": "code",
   "execution_count": 13,
   "id": "cd1ed716-977f-41e4-b0d4-2c603de5f704",
   "metadata": {},
   "outputs": [],
   "source": [
    "import numpy as np\n",
    "import pandas as pd\n",
    "\n",
    "class DecisionTree:\n",
    "    def __init__(self, max_depth=None, max_features=None):\n",
    "        self.max_depth = max_depth\n",
    "        self.max_features = max_features\n",
    "        self.tree = None\n",
    "\n",
    "    def fit(self, X, y):\n",
    "        self.tree = self._grow_tree(X, y, depth=0)\n",
    "\n",
    "    def _grow_tree(self, X, y, depth):\n",
    "        n_samples, n_features = X.shape\n",
    "        n_classes = len(np.unique(y))\n",
    "\n",
    "        # Stopping criteria\n",
    "        if (depth == self.max_depth) or (n_classes == 1) or (n_samples < 2):\n",
    "            return {'class': np.argmax(np.bincount(y)), 'split_feature': None, 'split_threshold': None,\n",
    "                    'left': None, 'right': None}\n",
    "\n",
    "        # Select random subset of features\n",
    "        if self.max_features is not None and self.max_features < n_features:\n",
    "            feature_idxs = np.random.choice(n_features, self.max_features, replace=False)\n",
    "            X = X[:, feature_idxs]\n",
    "        else:\n",
    "            feature_idxs = np.arange(n_features)\n",
    "\n",
    "        # Find best split\n",
    "        best_gini = float('inf')\n",
    "        best_split_feature, best_split_threshold = None, None\n",
    "        for feature in feature_idxs:\n",
    "            thresholds = np.unique(X[:, feature])\n",
    "            for threshold in thresholds:\n",
    "                left_idxs = X[:, feature] < threshold\n",
    "                y_left = y[left_idxs]\n",
    "                y_right = y[~left_idxs]\n",
    "                gini = (len(y_left) / n_samples) * self._gini_impurity(y_left) + \\\n",
    "                       (len(y_right) / n_samples) * self._gini_impurity(y_right)\n",
    "                if gini < best_gini:\n",
    "                    best_gini = gini\n",
    "                    best_split_feature = feature\n",
    "                    best_split_threshold = threshold\n",
    "\n",
    "        # Split the dataset\n",
    "        left_idxs = X[:, best_split_feature] < best_split_threshold\n",
    "        right_idxs = ~left_idxs\n",
    "        if np.sum(left_idxs) == 0:\n",
    "            return {'class': np.argmax(np.bincount(y[right_idxs])), 'split_feature': None, 'split_threshold': None,\n",
    "                    'left': None, 'right': None}\n",
    "\n",
    "        # Check if right subtree is empty\n",
    "        if np.sum(right_idxs) == 0:\n",
    "            return {'class': np.argmax(np.bincount(y[left_idxs])), 'split_feature': None, 'split_threshold': None,\n",
    "                    'left': None, 'right': None}\n",
    "        \n",
    "        # Grow left and right subtrees\n",
    "        left_subtree = self._grow_tree(X[left_idxs], y[left_idxs], depth + 1)\n",
    "        right_subtree = self._grow_tree(X[right_idxs], y[right_idxs], depth + 1)\n",
    "\n",
    "        return {'class': None, 'split_feature': best_split_feature, 'split_threshold': best_split_threshold,\n",
    "                'left': left_subtree, 'right': right_subtree}\n",
    "\n",
    "    def _gini_impurity(self, y):\n",
    "        _, counts = np.unique(y, return_counts=True)\n",
    "        probas = counts / len(y)\n",
    "        return 1 - np.sum(probas ** 2)\n",
    "\n",
    "    def predict(self, X):\n",
    "        return np.array([self._predict_tree(x, self.tree) for x in X])\n",
    "\n",
    "    def _predict_tree(self, x, tree):\n",
    "        if tree['class'] is not None:\n",
    "            return tree['class']\n",
    "        if x[tree['split_feature']] < tree['split_threshold']:\n",
    "            return self._predict_tree(x, tree['left'])\n",
    "        else:\n",
    "            return self._predict_tree(x, tree['right'])\n",
    "\n",
    "class RandomForest:\n",
    "    def __init__(self, n_trees=100, max_depth=None, max_features=None):\n",
    "        self.n_trees = n_trees\n",
    "        self.max_depth = max_depth\n",
    "        self.max_features = max_features\n",
    "        self.trees = []\n",
    "\n",
    "    def fit(self, X, y):\n",
    "        for _ in range(self.n_trees):\n",
    "            indices = np.random.choice(len(X), size=len(X), replace=True)\n",
    "            tree = DecisionTree(max_depth=self.max_depth, max_features=self.max_features)\n",
    "            tree.fit(X[indices], y.iloc[indices])\n",
    "            self.trees.append(tree)\n",
    "\n",
    "    def predict(self, X):\n",
    "        predictions = np.array([tree.predict(X) for tree in self.trees])\n",
    "        predictions=predictions.T\n",
    "        predictions = np.array([np.bincount(pred).argmax() for pred in predictions])\n",
    "        return predictions"
   ]
  },
  {
   "cell_type": "markdown",
   "id": "00a2af7b-860d-4503-af18-d2aa06399de2",
   "metadata": {},
   "source": [
    "### Decision tree Prediction and Analysis\n",
    "\n",
    "We have tried to make predictions for different depth of trees, each of which captures different information. Hence it leads to varying accuracy of the model."
   ]
  },
  {
   "cell_type": "code",
   "execution_count": 15,
   "id": "3cd2eac0-5e5e-4a03-ae25-8e5f5eb51b84",
   "metadata": {},
   "outputs": [
    {
     "name": "stdout",
     "output_type": "stream",
     "text": [
      "Cross-validation scores: [0.6722973  0.65202703 0.64527027 0.71959459 0.64864865]\n",
      "Mean CV score: 0.6675675675675675\n"
     ]
    }
   ],
   "source": [
    "dt=DecisionTree(max_depth=5)\n",
    "cv_scores = cross_validation(X.values, y, dt, n_folds=5)\n",
    "print(\"Cross-validation scores:\", cv_scores)\n",
    "print(\"Mean CV score:\", cv_scores.mean())"
   ]
  },
  {
   "cell_type": "code",
   "execution_count": 21,
   "id": "25bf9935-ae6a-4286-9fa6-762da9bda968",
   "metadata": {},
   "outputs": [
    {
     "name": "stdout",
     "output_type": "stream",
     "text": [
      "Cross-validation scores: [0.63175676 0.66216216 0.68918919 0.66216216 0.69594595]\n",
      "Mean CV score: 0.6682432432432432\n"
     ]
    }
   ],
   "source": [
    "dt=DecisionTree(max_depth=6)\n",
    "cv_scores = cross_validation(X.values, y, dt, n_folds=5)\n",
    "print(\"Cross-validation scores:\", cv_scores)\n",
    "print(\"Mean CV score:\", cv_scores.mean())"
   ]
  },
  {
   "cell_type": "code",
   "execution_count": 17,
   "id": "c57af6ae-1ce9-4f50-ab4e-fa1652b6df0e",
   "metadata": {},
   "outputs": [
    {
     "name": "stdout",
     "output_type": "stream",
     "text": [
      "Cross-validation scores: [0.63851351 0.68243243 0.68243243 0.6722973  0.62837838]\n",
      "Mean CV score: 0.6608108108108108\n"
     ]
    }
   ],
   "source": [
    "dt=DecisionTree(max_depth=7)\n",
    "cv_scores = cross_validation(X.values, y, dt, n_folds=5)\n",
    "print(\"Cross-validation scores:\", cv_scores)\n",
    "print(\"Mean CV score:\", cv_scores.mean())"
   ]
  },
  {
   "cell_type": "markdown",
   "id": "95c7a93a-0856-4bb7-baf4-6af8905f4a9f",
   "metadata": {},
   "source": [
    "### Random Forest Prediction and Analysis"
   ]
  },
  {
   "cell_type": "code",
   "execution_count": 18,
   "id": "c649be58-2758-483b-9437-6c12654ce932",
   "metadata": {},
   "outputs": [
    {
     "name": "stdout",
     "output_type": "stream",
     "text": [
      "Cross-validation scores: [0.68581081 0.75       0.75337838 0.70945946 0.73648649]\n",
      "Mean CV score: 0.7270270270270272\n"
     ]
    }
   ],
   "source": [
    "rf = RandomForest(n_trees=10, max_depth=5)\n",
    "cv_scores = cross_validation(X.values, y, rf, n_folds=5)\n",
    "print(\"Cross-validation scores:\", cv_scores)\n",
    "print(\"Mean CV score:\", cv_scores.mean())"
   ]
  },
  {
   "cell_type": "code",
   "execution_count": 35,
   "id": "29aa85d8-d516-429e-8c20-16e6a5e64828",
   "metadata": {},
   "outputs": [
    {
     "name": "stdout",
     "output_type": "stream",
     "text": [
      "Cross-validation scores: [0.66554054 0.70608108 0.74324324 0.80405405 0.76351351]\n",
      "Mean CV score: 0.7364864864864865\n"
     ]
    }
   ],
   "source": [
    "rf = RandomForest(n_trees=15, max_depth=5)\n",
    "cv_scores = cross_validation(X.values, y, rf, n_folds=5)\n",
    "print(\"Cross-validation scores:\", cv_scores)\n",
    "print(\"Mean CV score:\", cv_scores.mean())"
   ]
  },
  {
   "cell_type": "code",
   "execution_count": 19,
   "id": "3f643464-19f7-4b82-b3ae-d2540639b3a9",
   "metadata": {},
   "outputs": [
    {
     "name": "stdout",
     "output_type": "stream",
     "text": [
      "Cross-validation scores: [0.68918919 0.78378378 0.76689189 0.77702703 0.81418919]\n",
      "Mean CV score: 0.7662162162162163\n"
     ]
    }
   ],
   "source": [
    "rf = RandomForest(n_trees=10, max_depth=6)\n",
    "cv_scores = cross_validation(X.values, y, rf, n_folds=5)\n",
    "print(\"Cross-validation scores:\", cv_scores)\n",
    "print(\"Mean CV score:\", cv_scores.mean())"
   ]
  },
  {
   "cell_type": "code",
   "execution_count": 20,
   "id": "c38ff0e5-33a6-40b0-916a-9a676704b794",
   "metadata": {},
   "outputs": [
    {
     "name": "stdout",
     "output_type": "stream",
     "text": [
      "Cross-validation scores: [0.68243243 0.77364865 0.83108108 0.85472973 0.82432432]\n",
      "Mean CV score: 0.7932432432432434\n"
     ]
    }
   ],
   "source": [
    "rf = RandomForest(n_trees=10, max_depth=7)\n",
    "cv_scores = cross_validation(X.values, y, rf, n_folds=5)\n",
    "print(\"Cross-validation scores:\", cv_scores)\n",
    "print(\"Mean CV score:\", cv_scores.mean())"
   ]
  },
  {
   "cell_type": "markdown",
   "id": "bbcaac87-06ce-49a3-847a-435166c92108",
   "metadata": {},
   "source": [
    "### Decision Tree and Random Forest using Entropy as a measure of impurity"
   ]
  },
  {
   "cell_type": "code",
   "execution_count": 28,
   "id": "9e5b2446-8aec-45ec-8e0e-4fe32f59c70b",
   "metadata": {},
   "outputs": [],
   "source": [
    "class DecisionTree:\n",
    "    def __init__(self, max_depth=None, max_features=None):\n",
    "        self.max_depth = max_depth\n",
    "        self.max_features = max_features\n",
    "        self.tree = None\n",
    "\n",
    "    def fit(self, X, y):\n",
    "        self.tree = self._grow_tree(X, y, depth=0)\n",
    "\n",
    "    def _grow_tree(self, X, y, depth):\n",
    "        n_samples, n_features = X.shape\n",
    "        n_classes = len(np.unique(y))\n",
    "\n",
    "        # Stopping criteria\n",
    "        if (depth == self.max_depth) or (n_classes == 1) or (n_samples < 2):\n",
    "            return {'class': np.argmax(np.bincount(y)), 'split_feature': None, 'split_threshold': None,\n",
    "                    'left': None, 'right': None}\n",
    "\n",
    "        # Select random subset of features\n",
    "        if self.max_features is not None and self.max_features < n_features:\n",
    "            feature_idxs = np.random.choice(n_features, self.max_features, replace=False)\n",
    "            X = X[:, feature_idxs]\n",
    "        else:\n",
    "            feature_idxs = np.arange(n_features)\n",
    "\n",
    "        # Find best split\n",
    "        best_entropy = float('inf')\n",
    "        best_split_feature, best_split_threshold = None, None\n",
    "        for feature in feature_idxs:\n",
    "            thresholds = np.unique(X[:, feature])\n",
    "            for threshold in thresholds:\n",
    "                left_idxs = X[:, feature] < threshold\n",
    "                y_left = y[left_idxs]\n",
    "                y_right = y[~left_idxs]\n",
    "                entropy = (len(y_left) / n_samples) * self._entropy(y_left) + \\\n",
    "                          (len(y_right) / n_samples) * self._entropy(y_right)\n",
    "                if entropy < best_entropy:\n",
    "                    best_entropy = entropy\n",
    "                    best_split_feature = feature\n",
    "                    best_split_threshold = threshold\n",
    "\n",
    "        # Split the dataset\n",
    "        left_idxs = X[:, best_split_feature] < best_split_threshold\n",
    "        right_idxs = ~left_idxs\n",
    "        if np.sum(left_idxs) == 0:\n",
    "            return {'class': np.argmax(np.bincount(y[right_idxs])), 'split_feature': None, 'split_threshold': None,\n",
    "                    'left': None, 'right': None}\n",
    "\n",
    "        # Check if right subtree is empty\n",
    "        if np.sum(right_idxs) == 0:\n",
    "            return {'class': np.argmax(np.bincount(y[left_idxs])), 'split_feature': None, 'split_threshold': None,\n",
    "                    'left': None, 'right': None}\n",
    "        \n",
    "        # Grow left and right subtrees\n",
    "        left_subtree = self._grow_tree(X[left_idxs], y[left_idxs], depth + 1)\n",
    "        right_subtree = self._grow_tree(X[right_idxs], y[right_idxs], depth + 1)\n",
    "\n",
    "        return {'class': None, 'split_feature': best_split_feature, 'split_threshold': best_split_threshold,\n",
    "                'left': left_subtree, 'right': right_subtree}\n",
    "\n",
    "    def _entropy(self, y):\n",
    "        _, counts = np.unique(y, return_counts=True)\n",
    "        probas = counts / len(y)\n",
    "        return -np.sum(probas * np.log2(probas + 1e-10))\n",
    "\n",
    "    def predict(self, X):\n",
    "        return np.array([self._predict_tree(x, self.tree) for x in X])\n",
    "\n",
    "    def _predict_tree(self, x, tree):\n",
    "        if tree['class'] is not None:\n",
    "            return tree['class']\n",
    "        if x[tree['split_feature']] < tree['split_threshold']:\n",
    "            return self._predict_tree(x, tree['left'])\n",
    "        else:\n",
    "            return self._predict_tree(x, tree['right'])\n",
    "\n",
    "class RandomForest:\n",
    "    def __init__(self, n_trees=100, max_depth=None, max_features=None):\n",
    "        self.n_trees = n_trees\n",
    "        self.max_depth = max_depth\n",
    "        self.max_features = max_features\n",
    "        self.trees = []\n",
    "\n",
    "    def fit(self, X, y):\n",
    "        for _ in range(self.n_trees):\n",
    "            indices = np.random.choice(len(X), size=len(X), replace=True)\n",
    "            tree = DecisionTree(max_depth=self.max_depth, max_features=self.max_features)\n",
    "            tree.fit(X[indices], y.iloc[indices])\n",
    "            self.trees.append(tree)\n",
    "\n",
    "    def predict(self, X):\n",
    "        predictions = np.array([tree.predict(X) for tree in self.trees])\n",
    "        predictions = predictions.T\n",
    "        predictions = np.array([np.bincount(pred).argmax() for pred in predictions])\n",
    "        return predictions\n"
   ]
  },
  {
   "cell_type": "markdown",
   "id": "2ed9dfbf-a52c-4555-b3f1-c7402d8bcfac",
   "metadata": {},
   "source": [
    "## Decision tree Prediction and Analysis"
   ]
  },
  {
   "cell_type": "code",
   "execution_count": 29,
   "id": "e433c73e-2a35-4363-acd6-d765ab31331b",
   "metadata": {},
   "outputs": [
    {
     "name": "stdout",
     "output_type": "stream",
     "text": [
      "Cross-validation scores: [0.68581081 0.65540541 0.66891892 0.7027027  0.63175676]\n",
      "Mean CV score: 0.668918918918919\n"
     ]
    }
   ],
   "source": [
    "dt=DecisionTree(max_depth=5)\n",
    "cv_scores = cross_validation(X.values, y, dt, n_folds=5)\n",
    "print(\"Cross-validation scores:\", cv_scores)\n",
    "print(\"Mean CV score:\", cv_scores.mean())"
   ]
  },
  {
   "cell_type": "code",
   "execution_count": 30,
   "id": "f5815657-36a4-40ac-8b48-8ba021ecceca",
   "metadata": {},
   "outputs": [
    {
     "name": "stdout",
     "output_type": "stream",
     "text": [
      "Cross-validation scores: [0.66891892 0.67905405 0.61486486 0.64527027 0.61824324]\n",
      "Mean CV score: 0.6452702702702704\n"
     ]
    }
   ],
   "source": [
    "dt=DecisionTree(max_depth=6)\n",
    "cv_scores = cross_validation(X.values, y, dt, n_folds=5)\n",
    "print(\"Cross-validation scores:\", cv_scores)\n",
    "print(\"Mean CV score:\", cv_scores.mean())"
   ]
  },
  {
   "cell_type": "code",
   "execution_count": 31,
   "id": "e93c300a-b074-44d0-921e-298f4cefa49d",
   "metadata": {},
   "outputs": [
    {
     "name": "stdout",
     "output_type": "stream",
     "text": [
      "Cross-validation scores: [0.65540541 0.63175676 0.6722973  0.64864865 0.6722973 ]\n",
      "Mean CV score: 0.6560810810810811\n"
     ]
    }
   ],
   "source": [
    "dt=DecisionTree(max_depth=7)\n",
    "cv_scores = cross_validation(X.values, y, dt, n_folds=5)\n",
    "print(\"Cross-validation scores:\", cv_scores)\n",
    "print(\"Mean CV score:\", cv_scores.mean())"
   ]
  },
  {
   "cell_type": "markdown",
   "id": "c5cfb869-d1aa-4cc6-9f5d-a22937b7085e",
   "metadata": {},
   "source": [
    "## Random Forest Prediction and Analysis"
   ]
  },
  {
   "cell_type": "code",
   "execution_count": 32,
   "id": "3cd860df-bb82-45e2-af77-1e48ebe6dd9e",
   "metadata": {},
   "outputs": [
    {
     "name": "stdout",
     "output_type": "stream",
     "text": [
      "Cross-validation scores: [0.7027027  0.72635135 0.76013514 0.78716216 0.72972973]\n",
      "Mean CV score: 0.7412162162162163\n"
     ]
    }
   ],
   "source": [
    "rf = RandomForest(n_trees=10, max_depth=5)\n",
    "cv_scores = cross_validation(X.values, y, rf, n_folds=5)\n",
    "print(\"Cross-validation scores:\", cv_scores)\n",
    "print(\"Mean CV score:\", cv_scores.mean())"
   ]
  },
  {
   "cell_type": "code",
   "execution_count": 33,
   "id": "8de55181-83d4-45c5-931a-cb0eff4adc4d",
   "metadata": {},
   "outputs": [
    {
     "name": "stdout",
     "output_type": "stream",
     "text": [
      "Cross-validation scores: [0.69256757 0.72972973 0.77027027 0.76689189 0.78378378]\n",
      "Mean CV score: 0.7486486486486487\n"
     ]
    }
   ],
   "source": [
    "rf = RandomForest(n_trees=10, max_depth=6)\n",
    "cv_scores = cross_validation(X.values, y, rf, n_folds=5)\n",
    "print(\"Cross-validation scores:\", cv_scores)\n",
    "print(\"Mean CV score:\", cv_scores.mean())"
   ]
  },
  {
   "cell_type": "code",
   "execution_count": 34,
   "id": "d16e4769-3414-435a-93f8-caaeeddd9dcc",
   "metadata": {},
   "outputs": [
    {
     "name": "stdout",
     "output_type": "stream",
     "text": [
      "Cross-validation scores: [0.6722973  0.81756757 0.82094595 0.7972973  0.83445946]\n",
      "Mean CV score: 0.7885135135135135\n"
     ]
    }
   ],
   "source": [
    "rf = RandomForest(n_trees=10, max_depth=7)\n",
    "cv_scores = cross_validation(X.values, y, rf, n_folds=5)\n",
    "print(\"Cross-validation scores:\", cv_scores)\n",
    "print(\"Mean CV score:\", cv_scores.mean())"
   ]
  },
  {
   "cell_type": "markdown",
   "id": "57bef429-d472-4c00-94ea-639d98f4ab9e",
   "metadata": {},
   "source": [
    "# Scikit-Learn Library Implementation"
   ]
  },
  {
   "cell_type": "markdown",
   "id": "2ece00ed-7ee5-4324-965f-9759fce4ae57",
   "metadata": {},
   "source": [
    "## Decision Tree"
   ]
  },
  {
   "cell_type": "code",
   "execution_count": 22,
   "id": "fd881cc1-45f3-40c4-9fac-fbe22e9d1f1d",
   "metadata": {},
   "outputs": [
    {
     "name": "stdout",
     "output_type": "stream",
     "text": [
      "Cross-validation scores: [0.68581081 0.66216216 0.67905405 0.63175676 0.68581081]\n",
      "Mean CV score: 0.6689189189189191\n"
     ]
    }
   ],
   "source": [
    "from sklearn import tree\n",
    "dt_sk = tree.DecisionTreeClassifier(max_depth=5)\n",
    "cv_scores = cross_validation(X.values, y, dt_sk, n_folds=5)\n",
    "print(\"Cross-validation scores:\", cv_scores)\n",
    "print(\"Mean CV score:\", cv_scores.mean())"
   ]
  },
  {
   "cell_type": "code",
   "execution_count": 23,
   "id": "f26689b9-cc47-4a16-929d-b808ab753e71",
   "metadata": {},
   "outputs": [
    {
     "name": "stdout",
     "output_type": "stream",
     "text": [
      "Cross-validation scores: [0.66216216 0.68581081 0.65540541 0.65540541 0.66891892]\n",
      "Mean CV score: 0.6655405405405406\n"
     ]
    }
   ],
   "source": [
    "from sklearn import tree\n",
    "dt_sk = tree.DecisionTreeClassifier(max_depth=6)\n",
    "cv_scores = cross_validation(X.values, y, dt_sk, n_folds=5)\n",
    "print(\"Cross-validation scores:\", cv_scores)\n",
    "print(\"Mean CV score:\", cv_scores.mean())"
   ]
  },
  {
   "cell_type": "code",
   "execution_count": 24,
   "id": "6abfd05b-76d5-418e-917a-6ce44383b616",
   "metadata": {},
   "outputs": [
    {
     "name": "stdout",
     "output_type": "stream",
     "text": [
      "Cross-validation scores: [0.63851351 0.60135135 0.64189189 0.63851351 0.61148649]\n",
      "Mean CV score: 0.6263513513513513\n"
     ]
    }
   ],
   "source": [
    "from sklearn import tree\n",
    "dt_sk = tree.DecisionTreeClassifier(max_depth=7)\n",
    "cv_scores = cross_validation(X.values, y, dt_sk, n_folds=5)\n",
    "print(\"Cross-validation scores:\", cv_scores)\n",
    "print(\"Mean CV score:\", cv_scores.mean())"
   ]
  },
  {
   "cell_type": "markdown",
   "id": "4e96b0a2-20f6-47e3-8c06-b83b26c68384",
   "metadata": {},
   "source": [
    "## Random forest"
   ]
  },
  {
   "cell_type": "code",
   "execution_count": 25,
   "id": "bb13dc23-9e18-4dc2-83b8-bf71abfd1c8b",
   "metadata": {},
   "outputs": [
    {
     "name": "stdout",
     "output_type": "stream",
     "text": [
      "Cross-validation scores: [0.7027027  0.67905405 0.68581081 0.68918919 0.72635135]\n",
      "Mean CV score: 0.6966216216216216\n"
     ]
    }
   ],
   "source": [
    "from sklearn.ensemble import RandomForestClassifier\n",
    "rf_sk = RandomForestClassifier(n_estimators=10,max_depth=5)\n",
    "cv_scores = cross_validation(X.values, y, rf_sk, n_folds=5)\n",
    "print(\"Cross-validation scores:\", cv_scores)\n",
    "print(\"Mean CV score:\", cv_scores.mean())"
   ]
  },
  {
   "cell_type": "code",
   "execution_count": 26,
   "id": "e54ff60f-3978-4606-9a89-3792dc99c067",
   "metadata": {},
   "outputs": [
    {
     "name": "stdout",
     "output_type": "stream",
     "text": [
      "Cross-validation scores: [0.72972973 0.70945946 0.67905405 0.66216216 0.72972973]\n",
      "Mean CV score: 0.702027027027027\n"
     ]
    }
   ],
   "source": [
    "from sklearn.ensemble import RandomForestClassifier\n",
    "rf_sk = RandomForestClassifier(n_estimators=10, max_depth=6)\n",
    "cv_scores = cross_validation(X.values, y, rf_sk, n_folds=5)\n",
    "print(\"Cross-validation scores:\", cv_scores)\n",
    "print(\"Mean CV score:\", cv_scores.mean())"
   ]
  },
  {
   "cell_type": "code",
   "execution_count": 27,
   "id": "ca8e90e5-93a7-4453-86a7-8a01014fe32e",
   "metadata": {},
   "outputs": [
    {
     "name": "stdout",
     "output_type": "stream",
     "text": [
      "Cross-validation scores: [0.69594595 0.64864865 0.66891892 0.76013514 0.67905405]\n",
      "Mean CV score: 0.6905405405405405\n"
     ]
    }
   ],
   "source": [
    "from sklearn.ensemble import RandomForestClassifier\n",
    "rf_sk = RandomForestClassifier(n_estimators=10, max_depth=7)\n",
    "cv_scores = cross_validation(X.values, y, rf_sk, n_folds=5)\n",
    "print(\"Cross-validation scores:\", cv_scores)\n",
    "print(\"Mean CV score:\", cv_scores.mean())"
   ]
  },
  {
   "cell_type": "code",
   "execution_count": null,
   "id": "c7f4435b-d9c5-4441-b2e3-6ed36e7e65ac",
   "metadata": {},
   "outputs": [],
   "source": []
  }
 ],
 "metadata": {
  "kernelspec": {
   "display_name": "Python 3 (ipykernel)",
   "language": "python",
   "name": "python3"
  },
  "language_info": {
   "codemirror_mode": {
    "name": "ipython",
    "version": 3
   },
   "file_extension": ".py",
   "mimetype": "text/x-python",
   "name": "python",
   "nbconvert_exporter": "python",
   "pygments_lexer": "ipython3",
   "version": "3.11.7"
  }
 },
 "nbformat": 4,
 "nbformat_minor": 5
}
